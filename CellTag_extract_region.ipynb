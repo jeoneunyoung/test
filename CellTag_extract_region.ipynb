{
 "cells": [
  {
   "cell_type": "markdown",
   "metadata": {},
   "source": [
    "# 1. CellTag_extract_region\n",
    "input1> 190713_raw_CellTag_retarget.txt  \n",
    "input2> 190713_CellTag_retarget.csv\n",
    "\n",
    "> - POS(시작)와 PNEXT(끝)를 본다.  \n",
    "> - POS값이 PNEXT보다 크면 forward sequenced이고, PNEXT값이 POS보다 크면 reverse sequence이다.  \n",
    "> - POS값과 PNEXT값을 비교해서 더 큰 수를 선택한 후에 큰 수가 2520 미만이거나, 작은 수가 2536 초과이면 제외한다. (여집합 개념)    \n",
    "\n",
    "output> 190713_CellTag_2435_2621.txt"
   ]
  },
  {
   "cell_type": "code",
   "execution_count": 14,
   "metadata": {},
   "outputs": [
    {
     "data": {
      "text/html": [
       "<div>\n",
       "<style scoped>\n",
       "    .dataframe tbody tr th:only-of-type {\n",
       "        vertical-align: middle;\n",
       "    }\n",
       "\n",
       "    .dataframe tbody tr th {\n",
       "        vertical-align: top;\n",
       "    }\n",
       "\n",
       "    .dataframe thead th {\n",
       "        text-align: right;\n",
       "    }\n",
       "</style>\n",
       "<table border=\"1\" class=\"dataframe\">\n",
       "  <thead>\n",
       "    <tr style=\"text-align: right;\">\n",
       "      <th></th>\n",
       "      <th>QNAME</th>\n",
       "      <th>FLAG</th>\n",
       "      <th>RNAME</th>\n",
       "      <th>POS</th>\n",
       "      <th>MAPQ</th>\n",
       "      <th>CIGAR</th>\n",
       "      <th>RNEXT</th>\n",
       "      <th>PNEXT</th>\n",
       "      <th>TLEN</th>\n",
       "      <th>SEQ</th>\n",
       "      <th>QUAL</th>\n",
       "      <th>NM</th>\n",
       "      <th>MD</th>\n",
       "      <th>AS</th>\n",
       "      <th>XS</th>\n",
       "      <th>XA</th>\n",
       "      <th>XAA</th>\n",
       "    </tr>\n",
       "  </thead>\n",
       "  <tbody>\n",
       "    <tr>\n",
       "      <th>0</th>\n",
       "      <td>D00236:931:CCKH7ANXX:2:1102:10714:34145</td>\n",
       "      <td>99</td>\n",
       "      <td>CellTag</td>\n",
       "      <td>2332</td>\n",
       "      <td>60</td>\n",
       "      <td>86M2D9M3D6M</td>\n",
       "      <td>=</td>\n",
       "      <td>2632</td>\n",
       "      <td>326</td>\n",
       "      <td>AAATGAATGCAATTGTTGTTGTTAACTTGTTTATTGCAGCTTATAA...</td>\n",
       "      <td>ABBCBGEGCEGGGGGGGFGGGGGGGGGGGGFGGCGGGGGFEGGGFG...</td>\n",
       "      <td>NM:i:5</td>\n",
       "      <td>MD:Z:86^AA9^TTC6</td>\n",
       "      <td>AS:i:87</td>\n",
       "      <td>XS:i:58</td>\n",
       "      <td>NaN</td>\n",
       "      <td>NaN</td>\n",
       "    </tr>\n",
       "    <tr>\n",
       "      <th>1</th>\n",
       "      <td>D00235:658:CDMHFANXX:3:2209:5454:88862</td>\n",
       "      <td>163</td>\n",
       "      <td>CellTag</td>\n",
       "      <td>2333</td>\n",
       "      <td>60</td>\n",
       "      <td>91M2D10M</td>\n",
       "      <td>=</td>\n",
       "      <td>2377</td>\n",
       "      <td>147</td>\n",
       "      <td>AATGAATGCAATTGTTGTTGTTAACTTGTTTATTGCAGCTTATAAT...</td>\n",
       "      <td>BBCB@GGGGGGEGGGGGGGFCFGGGGGGGGGGGGGGGGGGGGGGGG...</td>\n",
       "      <td>NM:i:2</td>\n",
       "      <td>MD:Z:91^TT10</td>\n",
       "      <td>AS:i:96</td>\n",
       "      <td>XS:i:64</td>\n",
       "      <td>NaN</td>\n",
       "      <td>NaN</td>\n",
       "    </tr>\n",
       "    <tr>\n",
       "      <th>2</th>\n",
       "      <td>D00236:930:CDNV0ANXX:1:2304:19650:31792</td>\n",
       "      <td>163</td>\n",
       "      <td>CellTag</td>\n",
       "      <td>2333</td>\n",
       "      <td>60</td>\n",
       "      <td>91M2D10M</td>\n",
       "      <td>=</td>\n",
       "      <td>2377</td>\n",
       "      <td>147</td>\n",
       "      <td>AATGAATGCAATTGTTGTTGTTAACTTGTTTATTGCAGCTTATAAT...</td>\n",
       "      <td>BBBCBGGGGGGGGGGGGGGGGGGGGGGGGGGGGGGGGGGGGGGGGG...</td>\n",
       "      <td>NM:i:2</td>\n",
       "      <td>MD:Z:91^TT10</td>\n",
       "      <td>AS:i:96</td>\n",
       "      <td>XS:i:64</td>\n",
       "      <td>NaN</td>\n",
       "      <td>NaN</td>\n",
       "    </tr>\n",
       "    <tr>\n",
       "      <th>3</th>\n",
       "      <td>D00236:931:CCKH7ANXX:2:1201:3534:7914</td>\n",
       "      <td>163</td>\n",
       "      <td>CellTag</td>\n",
       "      <td>2333</td>\n",
       "      <td>60</td>\n",
       "      <td>91M2D10M</td>\n",
       "      <td>=</td>\n",
       "      <td>2377</td>\n",
       "      <td>147</td>\n",
       "      <td>AATGAATGCAATTGTTGTTGTTAACTTGTTTATTGCAGCTTATAAT...</td>\n",
       "      <td>CCCCCGGGGGGGGGGGGGGGGGGGGGGGGGGGGGGGGGGGGGGGGG...</td>\n",
       "      <td>NM:i:2</td>\n",
       "      <td>MD:Z:91^TT10</td>\n",
       "      <td>AS:i:96</td>\n",
       "      <td>XS:i:64</td>\n",
       "      <td>NaN</td>\n",
       "      <td>NaN</td>\n",
       "    </tr>\n",
       "    <tr>\n",
       "      <th>4</th>\n",
       "      <td>D00236:931:CCKH7ANXX:2:1102:9574:66147</td>\n",
       "      <td>99</td>\n",
       "      <td>CellTag</td>\n",
       "      <td>2333</td>\n",
       "      <td>60</td>\n",
       "      <td>91M2D10M</td>\n",
       "      <td>=</td>\n",
       "      <td>2429</td>\n",
       "      <td>193</td>\n",
       "      <td>AATGAATGCAATTGTTGTTGTTAACTTGTTTATTGCAGCTTATAAT...</td>\n",
       "      <td>ABBBBGGGGGGGGGGGGGGGGGGGGGGGGGGGGGGGGFGGGGGGGG...</td>\n",
       "      <td>NM:i:3</td>\n",
       "      <td>MD:Z:58G32^TT10</td>\n",
       "      <td>AS:i:91</td>\n",
       "      <td>XS:i:69</td>\n",
       "      <td>NaN</td>\n",
       "      <td>NaN</td>\n",
       "    </tr>\n",
       "  </tbody>\n",
       "</table>\n",
       "</div>"
      ],
      "text/plain": [
       "                                     QNAME  FLAG    RNAME   POS  MAPQ  \\\n",
       "0  D00236:931:CCKH7ANXX:2:1102:10714:34145    99  CellTag  2332    60   \n",
       "1   D00235:658:CDMHFANXX:3:2209:5454:88862   163  CellTag  2333    60   \n",
       "2  D00236:930:CDNV0ANXX:1:2304:19650:31792   163  CellTag  2333    60   \n",
       "3    D00236:931:CCKH7ANXX:2:1201:3534:7914   163  CellTag  2333    60   \n",
       "4   D00236:931:CCKH7ANXX:2:1102:9574:66147    99  CellTag  2333    60   \n",
       "\n",
       "         CIGAR RNEXT  PNEXT  TLEN  \\\n",
       "0  86M2D9M3D6M     =   2632   326   \n",
       "1     91M2D10M     =   2377   147   \n",
       "2     91M2D10M     =   2377   147   \n",
       "3     91M2D10M     =   2377   147   \n",
       "4     91M2D10M     =   2429   193   \n",
       "\n",
       "                                                 SEQ  \\\n",
       "0  AAATGAATGCAATTGTTGTTGTTAACTTGTTTATTGCAGCTTATAA...   \n",
       "1  AATGAATGCAATTGTTGTTGTTAACTTGTTTATTGCAGCTTATAAT...   \n",
       "2  AATGAATGCAATTGTTGTTGTTAACTTGTTTATTGCAGCTTATAAT...   \n",
       "3  AATGAATGCAATTGTTGTTGTTAACTTGTTTATTGCAGCTTATAAT...   \n",
       "4  AATGAATGCAATTGTTGTTGTTAACTTGTTTATTGCAGCTTATAAT...   \n",
       "\n",
       "                                                QUAL      NM  \\\n",
       "0  ABBCBGEGCEGGGGGGGFGGGGGGGGGGGGFGGCGGGGGFEGGGFG...  NM:i:5   \n",
       "1  BBCB@GGGGGGEGGGGGGGFCFGGGGGGGGGGGGGGGGGGGGGGGG...  NM:i:2   \n",
       "2  BBBCBGGGGGGGGGGGGGGGGGGGGGGGGGGGGGGGGGGGGGGGGG...  NM:i:2   \n",
       "3  CCCCCGGGGGGGGGGGGGGGGGGGGGGGGGGGGGGGGGGGGGGGGG...  NM:i:2   \n",
       "4  ABBBBGGGGGGGGGGGGGGGGGGGGGGGGGGGGGGGGFGGGGGGGG...  NM:i:3   \n",
       "\n",
       "                 MD       AS       XS   XA  XAA  \n",
       "0  MD:Z:86^AA9^TTC6  AS:i:87  XS:i:58  NaN  NaN  \n",
       "1      MD:Z:91^TT10  AS:i:96  XS:i:64  NaN  NaN  \n",
       "2      MD:Z:91^TT10  AS:i:96  XS:i:64  NaN  NaN  \n",
       "3      MD:Z:91^TT10  AS:i:96  XS:i:64  NaN  NaN  \n",
       "4   MD:Z:58G32^TT10  AS:i:91  XS:i:69  NaN  NaN  "
      ]
     },
     "execution_count": 14,
     "metadata": {},
     "output_type": "execute_result"
    }
   ],
   "source": [
    "import pandas as pd\n",
    "# low_memory=False: error 떠서 지정해줌.\n",
    "data = pd.read_csv(\"190713_raw_CellTag_retarget.txt\", sep=\"\\t\", low_memory=False)\n",
    "data.head()"
   ]
  },
  {
   "cell_type": "code",
   "execution_count": 10,
   "metadata": {},
   "outputs": [
    {
     "data": {
      "text/plain": [
       "Index(['QNAME', 'FLAG', 'RNAME', 'POS', 'MAPQ', 'CIGAR', 'RNEXT', 'PNEXT',\n",
       "       'TLEN', 'SEQ', 'QUAL', 'NM', 'MD', 'AS', 'XS', 'XA', 'XAA'],\n",
       "      dtype='object')"
      ]
     },
     "execution_count": 10,
     "metadata": {},
     "output_type": "execute_result"
    }
   ],
   "source": [
    "data.columns"
   ]
  },
  {
   "cell_type": "code",
   "execution_count": 11,
   "metadata": {},
   "outputs": [
    {
     "data": {
      "text/plain": [
       "'NM'"
      ]
     },
     "execution_count": 11,
     "metadata": {},
     "output_type": "execute_result"
    }
   ],
   "source": [
    "data.columns[11]"
   ]
  },
  {
   "cell_type": "markdown",
   "metadata": {},
   "source": [
    " "
   ]
  },
  {
   "cell_type": "code",
   "execution_count": 12,
   "metadata": {},
   "outputs": [],
   "source": [
    "data_cut = data.iloc[:, :11]  # QUAL column 까지만 자르기\n",
    "data_cut.head()  # QUAL 까지만 나오는지 확인\n",
    "data_cut.to_csv(\"190713_CellTag_retarget.csv\", index=None)  # 저장"
   ]
  },
  {
   "cell_type": "markdown",
   "metadata": {},
   "source": [
    ">11번째 column인 NM부터 MD, AS, XS... 은 필요 없는 column이므로 자른다.\n",
    ">[row, column] 에서 11번째 미만 column (다시 말해, 10번째 column 까지 = QUAL) 까지 자른다.\n",
    ">data_cut.head() 로 QUAL column 까지만 나오는 것을 확인 한 후 저장한다."
   ]
  },
  {
   "cell_type": "markdown",
   "metadata": {},
   "source": [
    " "
   ]
  },
  {
   "cell_type": "markdown",
   "metadata": {},
   "source": [
    "### input2> 190713_CellTag_retarget.csv\n",
    "data_cut을 input 으로 다시 시작  "
   ]
  },
  {
   "cell_type": "code",
   "execution_count": 32,
   "metadata": {},
   "outputs": [
    {
     "data": {
      "text/plain": [
       "1315262"
      ]
     },
     "execution_count": 32,
     "metadata": {},
     "output_type": "execute_result"
    }
   ],
   "source": [
    "data_cut_length = len(data_cut)\n",
    "data_cut_length"
   ]
  },
  {
   "cell_type": "markdown",
   "metadata": {},
   "source": [
    "> input으로 넣어준  190713_CellTag_retarget.csv 파일의 길이가 어느정도인지 확인한다."
   ]
  },
  {
   "cell_type": "code",
   "execution_count": 17,
   "metadata": {},
   "outputs": [
    {
     "data": {
      "text/plain": [
       "QNAME              D00236:931:CCKH7ANXX:2:1102:10714:34145\n",
       "FLAG                                                    99\n",
       "RNAME                                              CellTag\n",
       "POS                                                   2332\n",
       "MAPQ                                                    60\n",
       "CIGAR                                          86M2D9M3D6M\n",
       "RNEXT                                                    =\n",
       "PNEXT                                                 2632\n",
       "TLEN                                                   326\n",
       "SEQ      AAATGAATGCAATTGTTGTTGTTAACTTGTTTATTGCAGCTTATAA...\n",
       "QUAL     ABBCBGEGCEGGGGGGGFGGGGGGGGGGGGFGGCGGGGGFEGGGFG...\n",
       "Name: 0, dtype: object"
      ]
     },
     "execution_count": 17,
     "metadata": {},
     "output_type": "execute_result"
    }
   ],
   "source": [
    "target_lines = []\n",
    "line_num = 0\n",
    "sample_line = data_cut.iloc[line_num,:]\n",
    "sample_line"
   ]
  },
  {
   "cell_type": "markdown",
   "metadata": {},
   "source": [
    ">target_lines 이라는 빈 list를 만들어준 다음, 데이터의 범위를 지정해주는 .iloc 를 사용한다.  \n",
    ">우선 첫번째 줄 하나를 타겟해 돌려서 확인한 후 전체에 대해서 다시 실행한다.  \n",
    ">line_num = 0 이라고 지정해 첫번째 줄만 확인할 것이다.  \n",
    ">[행,열] 에서 행은 첫번째 행만, 열은 전체를 보여달라."
   ]
  },
  {
   "cell_type": "code",
   "execution_count": 18,
   "metadata": {},
   "outputs": [
    {
     "data": {
      "text/plain": [
       "2332"
      ]
     },
     "execution_count": 18,
     "metadata": {},
     "output_type": "execute_result"
    }
   ],
   "source": [
    "sample_line[\"POS\"]"
   ]
  },
  {
   "cell_type": "code",
   "execution_count": 19,
   "metadata": {},
   "outputs": [
    {
     "data": {
      "text/plain": [
       "2632"
      ]
     },
     "execution_count": 19,
     "metadata": {},
     "output_type": "execute_result"
    }
   ],
   "source": [
    "sample_line[\"PNEXT\"]"
   ]
  },
  {
   "cell_type": "code",
   "execution_count": 20,
   "metadata": {},
   "outputs": [],
   "source": [
    "if sample_line[\"PNEXT\"] >= sample_line[\"POS\"]:\n",
    "    big_num = sample_line[\"PNEXT\"]\n",
    "    small_num = sample_line[\"POS\"]\n",
    "else:\n",
    "    big_num = sample_line[\"POS\"]\n",
    "    small_num = sample_line[\"PNEXT\"]"
   ]
  },
  {
   "cell_type": "markdown",
   "metadata": {},
   "source": [
    ">만약 PNEXT가 POS보다 크거나 같으면, 큰 값은 PNEXT, 작은 값은 POS이다.  \n",
    ">그렇지 않으면 큰 값은 POS, 작은 값은 PNEXT이다."
   ]
  },
  {
   "cell_type": "code",
   "execution_count": 21,
   "metadata": {},
   "outputs": [
    {
     "data": {
      "text/plain": [
       "2332"
      ]
     },
     "execution_count": 21,
     "metadata": {},
     "output_type": "execute_result"
    }
   ],
   "source": [
    "small_num"
   ]
  },
  {
   "cell_type": "code",
   "execution_count": 22,
   "metadata": {},
   "outputs": [
    {
     "data": {
      "text/plain": [
       "2632"
      ]
     },
     "execution_count": 22,
     "metadata": {},
     "output_type": "execute_result"
    }
   ],
   "source": [
    "big_num"
   ]
  },
  {
   "cell_type": "code",
   "execution_count": 28,
   "metadata": {},
   "outputs": [
    {
     "data": {
      "text/plain": [
       "True"
      ]
     },
     "execution_count": 28,
     "metadata": {},
     "output_type": "execute_result"
    }
   ],
   "source": [
    "is_target = True\n",
    "if big_num < 2435:\n",
    "    is_target = False\n",
    "if small_num > 2621:\n",
    "    is_target = False\n",
    "is_target"
   ]
  },
  {
   "cell_type": "markdown",
   "metadata": {},
   "source": [
    ">default로 is_target이 true라고 지정한 후,   \n",
    ">만약 POS와 PNEXT 중 더 큰 값인 big_num가 우리가 타켓한 범위의 가장 작은 값인 2435보다 작으면 is_target은 False  \n",
    ">만약 POS와 PNEXT 중 더 작은 값인 small_num가 우리가 타겟한 범위의 가장 큰 값인 2621보다 크면 is_target은 False  \n",
    ">우리가 예시로 넣어준 small_num = 2332, big_num = 2632는 is_target을 만족하기 때문에 True로 나올 것이다.  \n",
    ">둘다 만족하지 않아야 True"
   ]
  },
  {
   "cell_type": "code",
   "execution_count": 29,
   "metadata": {},
   "outputs": [],
   "source": [
    "if is_target:\n",
    "    target_lines.append(line_num)"
   ]
  },
  {
   "cell_type": "markdown",
   "metadata": {},
   "source": [
    "> is_target이 True인 값을 아까 만들어 놓은 빈 리스트인 target_lines에 넣어라. "
   ]
  },
  {
   "cell_type": "markdown",
   "metadata": {},
   "source": [
    "### 위에서는 하나에 대해 돌려봤다면, 지금부터는 파일 전체에 대해서 실행해 볼 것이다."
   ]
  },
  {
   "cell_type": "code",
   "execution_count": 30,
   "metadata": {},
   "outputs": [],
   "source": [
    "def filter_line(line):\n",
    "    if line[\"PNEXT\"] >= line[\"POS\"]:\n",
    "        big_num = line[\"PNEXT\"]\n",
    "        small_num = line[\"POS\"]\n",
    "    else:\n",
    "        big_num = line[\"POS\"]\n",
    "        small_num = line[\"PNEXT\"]\n",
    "    is_target = True\n",
    "    if big_num < 2435:\n",
    "        is_target = False\n",
    "    if small_num > 2621:\n",
    "        is_target = False\n",
    "    return is_target"
   ]
  },
  {
   "cell_type": "markdown",
   "metadata": {},
   "source": [
    "> 자주 쓰이는 코드는 함수로 만들어 놓는 것이 좋다.  \n",
    "> def - return 을 사용한다. (def 함수이름 지정, return 반환하고자 하는 것)"
   ]
  },
  {
   "cell_type": "markdown",
   "metadata": {},
   "source": [
    "#### 진행상황을 확인할 수 없음.\n",
    ">원래는 아래와 같이 하면 되지만, 여러 줄을 돌리기 때문에 진행상황을 확인하면 좋음.  \n",
    ">count로 진행상황을 확인한다. (꿀팁!)   \n",
    "\n",
    "```\n",
    "target_lines = []\n",
    "for line_num in range(data_cut_length):        \n",
    "    line = data.iloc[line_num,:]\n",
    "    is_target = filter_line(line)\n",
    "    if is_target:\n",
    "        target_lines.append(line_num)\n",
    "```"
   ]
  },
  {
   "cell_type": "code",
   "execution_count": 33,
   "metadata": {
    "scrolled": true
   },
   "outputs": [
    {
     "name": "stdout",
     "output_type": "stream",
     "text": [
      "10000\n",
      "20000\n",
      "30000\n",
      "40000\n",
      "50000\n",
      "60000\n",
      "70000\n",
      "80000\n",
      "90000\n",
      "100000\n",
      "110000\n",
      "120000\n",
      "130000\n",
      "140000\n",
      "150000\n",
      "160000\n",
      "170000\n",
      "180000\n",
      "190000\n",
      "200000\n",
      "210000\n",
      "220000\n",
      "230000\n",
      "240000\n",
      "250000\n",
      "260000\n",
      "270000\n",
      "280000\n",
      "290000\n",
      "300000\n",
      "310000\n",
      "320000\n",
      "330000\n",
      "340000\n",
      "350000\n",
      "360000\n",
      "370000\n",
      "380000\n",
      "390000\n",
      "400000\n",
      "410000\n",
      "420000\n",
      "430000\n",
      "440000\n",
      "450000\n",
      "460000\n",
      "470000\n",
      "480000\n",
      "490000\n",
      "500000\n",
      "510000\n",
      "520000\n",
      "530000\n",
      "540000\n",
      "550000\n",
      "560000\n",
      "570000\n",
      "580000\n",
      "590000\n",
      "600000\n",
      "610000\n",
      "620000\n",
      "630000\n",
      "640000\n",
      "650000\n",
      "660000\n",
      "670000\n",
      "680000\n",
      "690000\n",
      "700000\n",
      "710000\n",
      "720000\n",
      "730000\n",
      "740000\n",
      "750000\n",
      "760000\n",
      "770000\n",
      "780000\n",
      "790000\n",
      "800000\n",
      "810000\n",
      "820000\n",
      "830000\n",
      "840000\n",
      "850000\n",
      "860000\n",
      "870000\n",
      "880000\n",
      "890000\n",
      "900000\n",
      "910000\n",
      "920000\n",
      "930000\n",
      "940000\n",
      "950000\n",
      "960000\n",
      "970000\n",
      "980000\n",
      "990000\n",
      "1000000\n",
      "1010000\n",
      "1020000\n",
      "1030000\n",
      "1040000\n",
      "1050000\n",
      "1060000\n",
      "1070000\n",
      "1080000\n",
      "1090000\n",
      "1100000\n",
      "1110000\n",
      "1120000\n",
      "1130000\n",
      "1140000\n",
      "1150000\n",
      "1160000\n",
      "1170000\n",
      "1180000\n",
      "1190000\n",
      "1200000\n",
      "1210000\n",
      "1220000\n",
      "1230000\n",
      "1240000\n",
      "1250000\n",
      "1260000\n",
      "1270000\n",
      "1280000\n",
      "1290000\n",
      "1300000\n",
      "1310000\n"
     ]
    }
   ],
   "source": [
    "target_lines = []\n",
    "count = 0\n",
    "for line_num in range(data_cut_length):\n",
    "    count += 1\n",
    "    if count % 10000 == 0:\n",
    "        print(count)\n",
    "        \n",
    "    line = data_cut.iloc[line_num,:]\n",
    "    is_target = filter_line(line)\n",
    "    if is_target:\n",
    "        target_lines.append(line_num)"
   ]
  },
  {
   "cell_type": "markdown",
   "metadata": {},
   "source": [
    "#### count를 넣어서 완성 시킨 코드. (진행상황 확인 가능)\n",
    ">10000줄을 읽으면 count가 프린트 된다. 진행상황이 이렇게 나와서 좋다!"
   ]
  },
  {
   "cell_type": "code",
   "execution_count": 53,
   "metadata": {
    "scrolled": true
   },
   "outputs": [
    {
     "data": {
      "text/plain": [
       "1164378"
      ]
     },
     "execution_count": 53,
     "metadata": {},
     "output_type": "execute_result"
    }
   ],
   "source": [
    "len(target_lines)"
   ]
  },
  {
   "cell_type": "markdown",
   "metadata": {},
   "source": [
    "> target_lines: 조건을 만족하는 것이 몇 개인지 알려줌."
   ]
  },
  {
   "cell_type": "code",
   "execution_count": 55,
   "metadata": {},
   "outputs": [],
   "source": [
    "target_data = data_cut.iloc[target_lines, :]\n",
    "target_data.to_csv(\"190713_CellTag_2435_2621.txt\", index=None)"
   ]
  },
  {
   "cell_type": "markdown",
   "metadata": {},
   "source": [
    "> 행으로 target_lines라는 리스트에 들어가 있는 1164378줄을 모두 넣고, column은 data_cut에 있는 모든 열을 넣는다.  \n",
    "> .to_csv로 저장한다. index는 각 행 앞에 0,1,2... 나오도록 하는 것인데 필요 없는 경우 None으로 지정한다."
   ]
  }
 ],
 "metadata": {
  "kernelspec": {
   "display_name": "Python 3",
   "language": "python",
   "name": "python3"
  },
  "language_info": {
   "codemirror_mode": {
    "name": "ipython",
    "version": 3
   },
   "file_extension": ".py",
   "mimetype": "text/x-python",
   "name": "python",
   "nbconvert_exporter": "python",
   "pygments_lexer": "ipython3",
   "version": "3.7.3"
  }
 },
 "nbformat": 4,
 "nbformat_minor": 2
}
